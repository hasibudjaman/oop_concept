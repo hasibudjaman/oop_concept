{
 "cells": [
  {
   "cell_type": "markdown",
   "id": "0bcee8c3-22fc-466f-a38b-c93ef69cbfc2",
   "metadata": {},
   "source": [
    "# Create a Class"
   ]
  },
  {
   "cell_type": "code",
   "execution_count": 1,
   "id": "3ec69899-5c9b-44fb-9c76-8c1e9e83536c",
   "metadata": {},
   "outputs": [
    {
     "name": "stdout",
     "output_type": "stream",
     "text": [
      "<class '__main__.myclass'>\n"
     ]
    }
   ],
   "source": [
    "class myclass:\n",
    "    x=5\n",
    "print(myclass)    "
   ]
  },
  {
   "cell_type": "markdown",
   "id": "19c84e31-7483-4e34-99ee-2ff110ac26b0",
   "metadata": {},
   "source": [
    "# Create Object"
   ]
  },
  {
   "cell_type": "code",
   "execution_count": 2,
   "id": "47fd7070-8793-4e5e-ae6c-3bf3b04065d6",
   "metadata": {},
   "outputs": [
    {
     "name": "stdout",
     "output_type": "stream",
     "text": [
      "5\n"
     ]
    }
   ],
   "source": [
    "p1=myclass()\n",
    "r=p1.x\n",
    "print(r)"
   ]
  },
  {
   "cell_type": "markdown",
   "id": "a13b6e61-5c3c-42f9-b7cd-3a3af8d5d702",
   "metadata": {},
   "source": [
    "# The __init__() Method"
   ]
  },
  {
   "cell_type": "code",
   "execution_count": 5,
   "id": "8acde897-08af-4467-b374-92a9f347d3c1",
   "metadata": {},
   "outputs": [
    {
     "name": "stdout",
     "output_type": "stream",
     "text": [
      "hasib\n",
      "23\n"
     ]
    }
   ],
   "source": [
    "class person:\n",
    "    def __init__(self,name,age):\n",
    "        self.name=name\n",
    "        self.age=age\n",
    "p1=person(\"hasib\",23)\n",
    "print(p1.name)\n",
    "print(p1.age)"
   ]
  },
  {
   "cell_type": "markdown",
   "id": "cd46c29c-a172-4eb0-a580-20d5075446fd",
   "metadata": {},
   "source": [
    "# The __str__() Method"
   ]
  },
  {
   "cell_type": "code",
   "execution_count": 7,
   "id": "f96a86ff-44db-4f17-b6f7-f8cb6bb098fd",
   "metadata": {},
   "outputs": [
    {
     "name": "stdout",
     "output_type": "stream",
     "text": [
      "hasib ud jaman(23)\n"
     ]
    }
   ],
   "source": [
    "class persion:\n",
    "    def __init__(self,name,age):\n",
    "        self.name=name\n",
    "        self.age = age\n",
    "    def __str__(self):\n",
    "        return f\"{self.name}({self.age})\"\n",
    "        \n",
    "p1=persion(\"hasib ud jaman\",23)\n",
    "\n",
    "print(p1)\n",
    "    "
   ]
  },
  {
   "cell_type": "markdown",
   "id": "ad3eab92-edc8-496d-92b1-ea7b9486daa3",
   "metadata": {},
   "source": [
    "# Create Methods"
   ]
  },
  {
   "cell_type": "code",
   "execution_count": 16,
   "id": "fbf47ca9-c4c4-4782-bd2c-6fab7c35f611",
   "metadata": {},
   "outputs": [
    {
     "name": "stdout",
     "output_type": "stream",
     "text": [
      "hasib(23)\n",
      "hasib\n",
      "my name is hasib\n",
      "hasib(43)\n"
     ]
    }
   ],
   "source": [
    "class person:\n",
    "    def __init__(self,name,age):\n",
    "        self.name=name\n",
    "        self.age=age\n",
    "    def __str__(self):\n",
    "        return f\"{self.name}({self.age})\"\n",
    "    def myfunction(self):\n",
    "        print(\"my name is \" + self.name)\n",
    "p1=person(\"hasib\",23)\n",
    "print(p1)\n",
    "print(p1.name)\n",
    "p1.myfunction()\n",
    "p1.age=43\n",
    "print(p1)\n"
   ]
  },
  {
   "cell_type": "markdown",
   "id": "e0ac093d-2766-46f2-b98d-2df0773fc99a",
   "metadata": {},
   "source": [
    "# The self Parameter"
   ]
  },
  {
   "cell_type": "code",
   "execution_count": 17,
   "id": "936dbf2c-2615-4422-acca-35ef743ff7bc",
   "metadata": {},
   "outputs": [
    {
     "name": "stdout",
     "output_type": "stream",
     "text": [
      "Hello my name is John\n"
     ]
    }
   ],
   "source": [
    "class Person:\n",
    "  def __init__(mysillyobject, name, age):\n",
    "    mysillyobject.name = name\n",
    "    mysillyobject.age = age\n",
    "\n",
    "  def myfunc(abc):\n",
    "    print(\"Hello my name is \" + abc.name)\n",
    "\n",
    "p1 = Person(\"John\", 36)\n",
    "p1.myfunc()"
   ]
  },
  {
   "cell_type": "markdown",
   "id": "ed46d263-a44c-4515-8687-a1f218249b96",
   "metadata": {},
   "source": [
    "# Modify Object Properties"
   ]
  },
  {
   "cell_type": "code",
   "execution_count": 19,
   "id": "f2a3c25f-7f29-41c1-9707-d15296359486",
   "metadata": {},
   "outputs": [
    {
     "name": "stdout",
     "output_type": "stream",
     "text": [
      "Hello my name is John\n",
      "40\n"
     ]
    }
   ],
   "source": [
    "class Person:\n",
    "  def __init__(mysillyobject, name, age):\n",
    "    mysillyobject.name = name\n",
    "    mysillyobject.age = age\n",
    "\n",
    "  def myfunc(abc):\n",
    "    print(\"Hello my name is \" + abc.name)\n",
    "\n",
    "p1 = Person(\"John\", 36)\n",
    "p1.myfunc()\n",
    "p1.age = 40\n",
    "print(p1.age)"
   ]
  },
  {
   "cell_type": "markdown",
   "id": "96b6115c-8226-4425-9e87-81cdfeee62a8",
   "metadata": {},
   "source": [
    "# Delete Object Properties"
   ]
  },
  {
   "cell_type": "code",
   "execution_count": 23,
   "id": "4e281693-21a6-4e96-9f3d-7f0fa5fdd036",
   "metadata": {},
   "outputs": [
    {
     "name": "stdout",
     "output_type": "stream",
     "text": [
      "Hello my name is John\n"
     ]
    },
    {
     "ename": "NameError",
     "evalue": "name 'p1' is not defined",
     "output_type": "error",
     "traceback": [
      "\u001b[1;31m---------------------------------------------------------------------------\u001b[0m",
      "\u001b[1;31mNameError\u001b[0m                                 Traceback (most recent call last)",
      "Cell \u001b[1;32mIn[23], line 14\u001b[0m\n\u001b[0;32m     12\u001b[0m \u001b[38;5;28;01mdel\u001b[39;00m p1\u001b[38;5;241m.\u001b[39mage\n\u001b[0;32m     13\u001b[0m \u001b[38;5;28;01mdel\u001b[39;00m p1\n\u001b[1;32m---> 14\u001b[0m \u001b[38;5;28mprint\u001b[39m(p1)\n\u001b[0;32m     15\u001b[0m \u001b[38;5;28mprint\u001b[39m(p1\u001b[38;5;241m.\u001b[39mage)\n",
      "\u001b[1;31mNameError\u001b[0m: name 'p1' is not defined"
     ]
    }
   ],
   "source": [
    "class Person:\n",
    "  def __init__(mysillyobject, name, age):\n",
    "    mysillyobject.name = name\n",
    "    mysillyobject.age = age\n",
    "\n",
    "  def myfunc(abc):\n",
    "    print(\"Hello my name is \" + abc.name)\n",
    "\n",
    "p1 = Person(\"John\", 36)\n",
    "p1.myfunc()\n",
    "p1.age = 40\n",
    "del p1.age\n",
    "del p1\n",
    "print(p1)\n",
    "print(p1.age)\n"
   ]
  },
  {
   "cell_type": "markdown",
   "id": "e80dda8a-2b52-4bb5-8d60-d1593227dea0",
   "metadata": {},
   "source": [
    "# The pass Statement"
   ]
  },
  {
   "cell_type": "code",
   "execution_count": 24,
   "id": "798bbc70-8438-4225-98ca-c63cd5f950ab",
   "metadata": {},
   "outputs": [],
   "source": [
    "class Person:\n",
    "  pass"
   ]
  },
  {
   "cell_type": "markdown",
   "id": "62b9f24e-2702-42a4-a877-a26a846993c2",
   "metadata": {},
   "source": [
    "# Python Inheritance"
   ]
  },
  {
   "cell_type": "code",
   "execution_count": 40,
   "id": "60c7dc45-dcfb-4ae0-83aa-6cccb9c79a1f",
   "metadata": {},
   "outputs": [
    {
     "name": "stdout",
     "output_type": "stream",
     "text": [
      "John Doe\n"
     ]
    }
   ],
   "source": [
    "class Person:\n",
    "  def __init__(self, fname, lname):\n",
    "    self.firstname = fname\n",
    "    self.lastname = lname\n",
    "\n",
    "  def printname(self):\n",
    "    print(self.firstname, self.lastname)\n",
    "\n",
    "#Use the Person class to create an object, and then execute the printname method:\n",
    "\n",
    "x = Person(\"John\", \"Doe\")\n",
    "x.printname()\n"
   ]
  },
  {
   "cell_type": "code",
   "execution_count": 46,
   "id": "863386db-cfc1-45f9-8cc5-0d3572629d42",
   "metadata": {},
   "outputs": [
    {
     "name": "stdout",
     "output_type": "stream",
     "text": [
      "hasib nime\n"
     ]
    }
   ],
   "source": [
    "class Person:\n",
    "  def __init__(self, fname, lname):\n",
    "    self.firstname = fname\n",
    "    self.lastname = lname\n",
    "\n",
    "  def myfunction(self):\n",
    "    print(self.firstname, self.lastname)\n",
    "\n",
    "#Use the Person class to create an object, and then execute the printname method:\n",
    "\n",
    "\n",
    "\n",
    "class student(Person):\n",
    "    pass\n",
    "x=student(\"hasib\",\"nime\")\n",
    "x.myfunction()\n"
   ]
  },
  {
   "cell_type": "code",
   "execution_count": 57,
   "id": "667851d9-2134-475a-ad64-c34d318ad366",
   "metadata": {},
   "outputs": [
    {
     "name": "stdout",
     "output_type": "stream",
     "text": [
      "hasib nime\n"
     ]
    }
   ],
   "source": [
    "class person:\n",
    "    def __init__(self,name,age):\n",
    "        self.name=name\n",
    "        self.age=age\n",
    "    def printfunction(self):\n",
    "        print(self.name,self.age)\n",
    "class student(person):\n",
    "    def __init__(self,name,age):\n",
    "        \n",
    "        \n",
    "        \n",
    "        person.__init__(self,name,age)\n",
    "        \n",
    "       \n",
    "        \n",
    "x=student(\"hasib\",\"nime\")\n",
    "x.printfunction()\n",
    "   \n",
    "    "
   ]
  },
  {
   "cell_type": "markdown",
   "id": "d981ec3d-1005-414a-95f1-5c7db3e8af30",
   "metadata": {},
   "source": [
    "# super_key"
   ]
  },
  {
   "cell_type": "code",
   "execution_count": 58,
   "id": "fc61bfe0-6e54-4243-948c-6ff163377a75",
   "metadata": {},
   "outputs": [
    {
     "name": "stdout",
     "output_type": "stream",
     "text": [
      "Mike Olsen\n"
     ]
    }
   ],
   "source": [
    "class Person:\n",
    "  def __init__(self, fname, lname):\n",
    "    self.firstname = fname\n",
    "    self.lastname = lname\n",
    "\n",
    "  def printname(self):\n",
    "    print(self.firstname, self.lastname)\n",
    "\n",
    "class Student(Person):\n",
    "  def __init__(self, fname, lname):\n",
    "    super().__init__(fname, lname)\n",
    "\n",
    "x = Student(\"Mike\", \"Olsen\")\n",
    "x.printname()\n"
   ]
  },
  {
   "cell_type": "code",
   "execution_count": 59,
   "id": "ee66b0bf-fdbd-4fa6-a05d-2037fdb4858e",
   "metadata": {},
   "outputs": [
    {
     "name": "stdout",
     "output_type": "stream",
     "text": [
      "2019\n"
     ]
    }
   ],
   "source": [
    "class Person:\n",
    "  def __init__(self, fname, lname):\n",
    "    self.firstname = fname\n",
    "    self.lastname = lname\n",
    "\n",
    "  def printname(self):\n",
    "    print(self.firstname, self.lastname)\n",
    "\n",
    "class Student(Person):\n",
    "  def __init__(self, fname, lname):\n",
    "    super().__init__(fname, lname)\n",
    "    self.graduationyear = 2019\n",
    "\n",
    "x = Student(\"Mike\", \"Olsen\")\n",
    "print(x.graduationyear)"
   ]
  },
  {
   "cell_type": "code",
   "execution_count": 60,
   "id": "ccba6bfd-3365-4032-a86f-b28b6b2be854",
   "metadata": {},
   "outputs": [
    {
     "name": "stdout",
     "output_type": "stream",
     "text": [
      "2019\n"
     ]
    }
   ],
   "source": [
    "class Person:\n",
    "  def __init__(self, fname, lname):\n",
    "    self.firstname = fname\n",
    "    self.lastname = lname\n",
    "\n",
    "  def printname(self):\n",
    "    print(self.firstname, self.lastname)\n",
    "\n",
    "class Student(Person):\n",
    "  def __init__(self, fname, lname, year):\n",
    "    super().__init__(fname, lname)\n",
    "    self.graduationyear = year\n",
    "\n",
    "x = Student(\"Mike\", \"Olsen\", 2019)\n",
    "print(x.graduationyear)\n"
   ]
  },
  {
   "cell_type": "code",
   "execution_count": 61,
   "id": "b68419d9-a89e-454d-bea9-724fa9035ba5",
   "metadata": {},
   "outputs": [
    {
     "name": "stdout",
     "output_type": "stream",
     "text": [
      "Welcome Mike Olsen to the class of 2024\n"
     ]
    }
   ],
   "source": [
    "class Person:\n",
    "  def __init__(self, fname, lname):\n",
    "    self.firstname = fname\n",
    "    self.lastname = lname\n",
    "\n",
    "  def printname(self):\n",
    "    print(self.firstname, self.lastname)\n",
    "\n",
    "class Student(Person):\n",
    "  def __init__(self, fname, lname, year):\n",
    "    super().__init__(fname, lname)\n",
    "    self.graduationyear = year\n",
    "\n",
    "  def welcome(self):\n",
    "    print(\"Welcome\", self.firstname, self.lastname, \"to the class of\", self.graduationyear)\n",
    "\n",
    "x = Student(\"Mike\", \"Olsen\", 2024)\n",
    "x.welcome()\n"
   ]
  },
  {
   "cell_type": "markdown",
   "id": "b9c17ee4-1ee2-47c0-b3ff-c3b1efb3a0d6",
   "metadata": {},
   "source": [
    "# Python Iterators"
   ]
  },
  {
   "cell_type": "code",
   "execution_count": 66,
   "id": "62a252b2-de04-4b53-bfc6-09d63219ddb9",
   "metadata": {},
   "outputs": [
    {
     "name": "stdout",
     "output_type": "stream",
     "text": [
      "apple\n",
      "banana\n"
     ]
    }
   ],
   "source": [
    "mytuple = (\"apple\", \"banana\", \"cherry\")\n",
    "myit = iter(mytuple)\n",
    "\n",
    "print(next(myit))\n",
    "print(next(myit))"
   ]
  },
  {
   "cell_type": "code",
   "execution_count": 67,
   "id": "e906c4f2-9c3d-45f8-8011-133fc111ca44",
   "metadata": {},
   "outputs": [
    {
     "name": "stdout",
     "output_type": "stream",
     "text": [
      "b\n",
      "a\n",
      "n\n",
      "a\n",
      "n\n",
      "a\n"
     ]
    }
   ],
   "source": [
    "mystr = \"banana\"\n",
    "myit = iter(mystr)\n",
    "\n",
    "print(next(myit))\n",
    "print(next(myit))\n",
    "print(next(myit))\n",
    "print(next(myit))\n",
    "print(next(myit))\n",
    "print(next(myit))\n"
   ]
  },
  {
   "cell_type": "markdown",
   "id": "404e3cd8-3918-4c2c-912a-ac477d02d313",
   "metadata": {},
   "source": [
    "# Python Polymorphism"
   ]
  },
  {
   "cell_type": "markdown",
   "id": "ed02faf5-8859-4d3a-9b05-c2982a155e97",
   "metadata": {},
   "source": [
    "# Function Polymorphism"
   ]
  },
  {
   "cell_type": "code",
   "execution_count": 68,
   "id": "fdc7d85f-0e2e-47cf-867d-59da966deef4",
   "metadata": {},
   "outputs": [
    {
     "name": "stdout",
     "output_type": "stream",
     "text": [
      "12\n"
     ]
    }
   ],
   "source": [
    "x = \"Hello World!\"\n",
    "\n",
    "print(len(x))"
   ]
  },
  {
   "cell_type": "code",
   "execution_count": 69,
   "id": "f41af88b-d448-46d8-8091-f44831492473",
   "metadata": {},
   "outputs": [
    {
     "name": "stdout",
     "output_type": "stream",
     "text": [
      "3\n"
     ]
    }
   ],
   "source": [
    "mytuple = (\"apple\", \"banana\", \"cherry\")\n",
    "\n",
    "print(len(mytuple))"
   ]
  },
  {
   "cell_type": "code",
   "execution_count": 70,
   "id": "5f2fc81b-1629-49ff-8383-7f4ac49ee917",
   "metadata": {},
   "outputs": [
    {
     "name": "stdout",
     "output_type": "stream",
     "text": [
      "3\n"
     ]
    }
   ],
   "source": [
    "thisdict = {\n",
    "  \"brand\": \"Ford\",\n",
    "  \"model\": \"Mustang\",\n",
    "  \"year\": 1964\n",
    "}\n",
    "\n",
    "print(len(thisdict))"
   ]
  },
  {
   "cell_type": "markdown",
   "id": "c6356f9f-5733-4578-a7ee-9e9c96fcf92b",
   "metadata": {},
   "source": [
    "# Class Polymorphism"
   ]
  },
  {
   "cell_type": "code",
   "execution_count": 71,
   "id": "c2838845-8431-49f7-99e8-6777ab9c6c50",
   "metadata": {},
   "outputs": [
    {
     "name": "stdout",
     "output_type": "stream",
     "text": [
      "Drive!\n",
      "Sail!\n",
      "Fly!\n"
     ]
    }
   ],
   "source": [
    "class Car:\n",
    "  def __init__(self, brand, model):\n",
    "    self.brand = brand\n",
    "    self.model = model\n",
    "\n",
    "  def move(self):\n",
    "    print(\"Drive!\")\n",
    "\n",
    "class Boat:\n",
    "  def __init__(self, brand, model):\n",
    "    self.brand = brand\n",
    "    self.model = model\n",
    "\n",
    "  def move(self):\n",
    "    print(\"Sail!\")\n",
    "\n",
    "class Plane:\n",
    "  def __init__(self, brand, model):\n",
    "    self.brand = brand\n",
    "    self.model = model\n",
    "\n",
    "  def move(self):\n",
    "    print(\"Fly!\")\n",
    "\n",
    "car1 = Car(\"Ford\", \"Mustang\")       #Create a Car object\n",
    "boat1 = Boat(\"Ibiza\", \"Touring 20\") #Create a Boat object\n",
    "plane1 = Plane(\"Boeing\", \"747\")     #Create a Plane object\n",
    "\n",
    "for x in (car1, boat1, plane1):\n",
    "  x.move()"
   ]
  },
  {
   "cell_type": "markdown",
   "id": "ab4b768a-89cf-4ba2-b7e8-65a306779eef",
   "metadata": {},
   "source": [
    "# Inheritance Class Polymorphism"
   ]
  },
  {
   "cell_type": "code",
   "execution_count": 72,
   "id": "9fd6803f-203c-4ad1-b4b8-f5ef3c1eeafa",
   "metadata": {},
   "outputs": [
    {
     "name": "stdout",
     "output_type": "stream",
     "text": [
      "Ford\n",
      "Mustang\n",
      "Move!\n",
      "Ibiza\n",
      "Touring 20\n",
      "Sail!\n",
      "Boeing\n",
      "747\n",
      "Fly!\n"
     ]
    }
   ],
   "source": [
    "class Vehicle:\n",
    "  def __init__(self, brand, model):\n",
    "    self.brand = brand\n",
    "    self.model = model\n",
    "\n",
    "  def move(self):\n",
    "    print(\"Move!\")\n",
    "\n",
    "class Car(Vehicle):\n",
    "  pass\n",
    "\n",
    "class Boat(Vehicle):\n",
    "  def move(self):\n",
    "    print(\"Sail!\")\n",
    "\n",
    "class Plane(Vehicle):\n",
    "  def move(self):\n",
    "    print(\"Fly!\")\n",
    "\n",
    "car1 = Car(\"Ford\", \"Mustang\")       #Create a Car object\n",
    "boat1 = Boat(\"Ibiza\", \"Touring 20\") #Create a Boat object\n",
    "plane1 = Plane(\"Boeing\", \"747\")     #Create a Plane object\n",
    "\n",
    "for x in (car1, boat1, plane1):\n",
    "  print(x.brand)\n",
    "  print(x.model)\n",
    "  x.move()\n"
   ]
  },
  {
   "cell_type": "markdown",
   "id": "3a475e1a-86e5-4ca5-826d-1d6089ad7988",
   "metadata": {},
   "source": [
    "# Python Modules"
   ]
  },
  {
   "cell_type": "code",
   "execution_count": 74,
   "id": "308dd384-0135-49e9-80f9-a1efb6f7dc61",
   "metadata": {},
   "outputs": [],
   "source": [
    "def greeting(name):\n",
    "    print(\"hello\" + name)\n",
    "pi=3.1416    \n",
    "    "
   ]
  },
  {
   "cell_type": "markdown",
   "id": "633c28a5-1a66-48b4-b639-08be4e09ece1",
   "metadata": {},
   "source": [
    "# Python Datetime"
   ]
  },
  {
   "cell_type": "code",
   "execution_count": 76,
   "id": "d404c2c7-4a51-46c7-a6e4-64f512f569d7",
   "metadata": {},
   "outputs": [
    {
     "name": "stdout",
     "output_type": "stream",
     "text": [
      "2025-09-04 17:41:09.744836\n",
      "2025\n"
     ]
    }
   ],
   "source": [
    "import datetime\n",
    "x=datetime.datetime.now()\n",
    "print(x)\n",
    "print(x.year)"
   ]
  },
  {
   "cell_type": "code",
   "execution_count": null,
   "id": "c58162ef-660c-4899-b473-86991b63b6de",
   "metadata": {},
   "outputs": [],
   "source": []
  }
 ],
 "metadata": {
  "kernelspec": {
   "display_name": "Python 3 (ipykernel)",
   "language": "python",
   "name": "python3"
  },
  "language_info": {
   "codemirror_mode": {
    "name": "ipython",
    "version": 3
   },
   "file_extension": ".py",
   "mimetype": "text/x-python",
   "name": "python",
   "nbconvert_exporter": "python",
   "pygments_lexer": "ipython3",
   "version": "3.13.5"
  }
 },
 "nbformat": 4,
 "nbformat_minor": 5
}
